import pandas as pd 
df = pd.read_csv("PizzaRestaurantFile.csv")
df 

from bokeh.plotting import figure,show
from bokeh.models import ColumnDataSource
from bokeh.io import output_notebook
import pandas as pd

df = pd.read_csv("PizzaRestaurantFile.csv")
source = ColumnDataSource(data = df)

plot1 = figure(title = "Ratings vs Cost", x_axis_label = 'Costs', y_axis_label = 'Ratings')
plot1.scatter(x = "Costs ($, $$, $$$)", y ="Ratings (1-5)", source = source, size = 10, color = "blue")

show(plot1)
